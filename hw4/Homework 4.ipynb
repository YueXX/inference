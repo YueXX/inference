{
 "cells": [
  {
   "cell_type": "markdown",
   "metadata": {
    "collapsed": false
   },
   "source": [
    "# Homework 4\n",
    "## Alex Pine, akp258"
   ]
  },
  {
   "cell_type": "markdown",
   "metadata": {},
   "source": [
    "### Question 1: Topic modeling code"
   ]
  },
  {
   "cell_type": "code",
   "execution_count": null,
   "metadata": {
    "collapsed": true
   },
   "outputs": [],
   "source": [
    "# Hack to get python to look for the pip modules before the OS X versions.\n",
    "# This ensures the newest version of the 'six' library is used, which gensim requires.\n",
    "import sys\n",
    "sys.path.insert(0, '/Library/Python/2.7/site-packages')\n",
    "import gensim"
   ]
  },
  {
   "cell_type": "markdown",
   "metadata": {},
   "source": [
    "#### 1.a: Prepare document corpus\n",
    "Using the UC Irvine's \"Daily Kos\" weblog corpus."
   ]
  },
  {
   "cell_type": "code",
   "execution_count": 65,
   "metadata": {
    "collapsed": false
   },
   "outputs": [],
   "source": [
    "from gensim import corpora, models\n",
    "\n",
    "corpus = corpora.UciCorpus('docword.kos.txt', fname_vocab='vocab.kos.txt')"
   ]
  },
  {
   "cell_type": "markdown",
   "metadata": {},
   "source": [
    "#### 1.b Prepare Document Corpus\n",
    "Train LDA models with default parameters. gensim's LDA module defaults to 100 topics."
   ]
  },
  {
   "cell_type": "code",
   "execution_count": 66,
   "metadata": {
    "collapsed": false
   },
   "outputs": [
    {
     "name": "stderr",
     "output_type": "stream",
     "text": [
      "WARNING:gensim.models.ldamulticore:too few updates, training might not converge; consider increasing the number of passes or iterations to improve accuracy\n"
     ]
    }
   ],
   "source": [
    "# Defaults to num_topics=100\n",
    "default_model = models.LdaMulticore(corpus, id2word=corpus.create_dictionary(), workers=4)"
   ]
  },
  {
   "cell_type": "code",
   "execution_count": 70,
   "metadata": {
    "collapsed": false
   },
   "outputs": [
    {
     "name": "stdout",
     "output_type": "stream",
     "text": [
      "Number of topics: 100\n",
      "Topic 1 : 0.013*bush + 0.011*campaign + 0.007*kerry + 0.007*democratic + 0.006*senate + 0.005*time\n",
      "Topic 2 : 0.016*november + 0.011*bush + 0.008*republicans + 0.008*poll + 0.007*senate + 0.007*house\n",
      "Topic 3 : 0.014*iraq + 0.011*kerry + 0.010*bush + 0.008*war + 0.005*news + 0.005*campaign\n",
      "Topic 4 : 0.027*bush + 0.010*kerry + 0.007*war + 0.007*general + 0.006*campaign + 0.005*people\n",
      "Topic 5 : 0.007*bush + 0.006*iraq + 0.005*campaign + 0.005*democrats + 0.005*senate + 0.004*news\n",
      "Topic 6 : 0.012*dean + 0.008*iowa + 0.008*kerry + 0.007*campaign + 0.007*bush + 0.007*general\n",
      "Topic 7 : 0.008*bush + 0.008*democratic + 0.007*war + 0.007*iraq + 0.005*november + 0.005*kerry\n",
      "Topic 8 : 0.017*bush + 0.013*kerry + 0.008*million + 0.007*republicans + 0.006*administration + 0.005*senate\n",
      "Topic 9 : 0.008*bush + 0.007*primary + 0.006*states + 0.006*iraq + 0.006*democratic + 0.006*house\n",
      "Topic 10 : 0.016*bush + 0.009*kerry + 0.007*iraq + 0.007*state + 0.006*war + 0.005*house\n",
      "Topic 11 : 0.013*bush + 0.008*poll + 0.007*kerry + 0.007*november + 0.007*house + 0.007*president\n",
      "Topic 12 : 0.018*bush + 0.012*kerry + 0.007*iraq + 0.007*war + 0.006*dean + 0.005*poll\n",
      "Topic 13 : 0.025*bush + 0.009*kerry + 0.007*administration + 0.006*people + 0.006*general + 0.005*president\n",
      "Topic 14 : 0.015*kerry + 0.012*edwards + 0.012*dean + 0.010*democratic + 0.008*primary + 0.008*bush\n",
      "Topic 15 : 0.013*party + 0.012*bush + 0.011*democratic + 0.006*state + 0.006*kerry + 0.006*war\n",
      "Topic 16 : 0.023*november + 0.011*bush + 0.007*media + 0.007*senate + 0.007*poll + 0.006*democratic\n",
      "Topic 17 : 0.016*bush + 0.010*kerry + 0.007*administration + 0.005*war + 0.005*time + 0.005*vote\n",
      "Topic 18 : 0.007*bush + 0.006*house + 0.006*people + 0.005*national + 0.005*democratic + 0.005*party\n",
      "Topic 19 : 0.020*bush + 0.019*kerry + 0.010*democratic + 0.008*percent + 0.008*house + 0.007*poll\n",
      "Topic 20 : 0.010*war + 0.010*bush + 0.009*iraq + 0.007*cheney + 0.007*campaign + 0.006*president\n",
      "Topic 21 : 0.014*bush + 0.009*kerry + 0.008*house + 0.008*november + 0.007*general + 0.006*democratic\n",
      "Topic 22 : 0.007*iraq + 0.007*bush + 0.006*republicans + 0.006*state + 0.005*party + 0.005*war\n",
      "Topic 23 : 0.025*bush + 0.016*kerry + 0.012*percent + 0.009*poll + 0.008*president + 0.006*war\n",
      "Topic 24 : 0.018*bush + 0.015*kerry + 0.009*iraq + 0.007*war + 0.007*november + 0.007*poll\n",
      "Topic 25 : 0.016*kerry + 0.008*edwards + 0.007*dean + 0.007*clark + 0.006*war + 0.006*poll\n",
      "Topic 26 : 0.016*november + 0.008*bush + 0.007*house + 0.006*governor + 0.006*state + 0.006*poll\n",
      "Topic 27 : 0.012*bush + 0.009*november + 0.009*party + 0.008*house + 0.007*war + 0.007*republicans\n",
      "Topic 28 : 0.019*bush + 0.009*iraq + 0.008*kerry + 0.007*president + 0.006*people + 0.006*war\n",
      "Topic 29 : 0.020*bush + 0.014*kerry + 0.007*poll + 0.006*president + 0.006*democratic + 0.006*dean\n",
      "Topic 30 : 0.016*bush + 0.014*kerry + 0.007*war + 0.006*iraq + 0.006*million + 0.005*administration\n",
      "Topic 31 : 0.019*kerry + 0.013*bush + 0.008*democratic + 0.008*poll + 0.008*dean + 0.007*edwards\n",
      "Topic 32 : 0.007*state + 0.007*kerry + 0.006*election + 0.006*vote + 0.006*senate + 0.005*republican\n",
      "Topic 33 : 0.010*bush + 0.010*republican + 0.007*states + 0.007*republicans + 0.007*senate + 0.006*state\n",
      "Topic 34 : 0.020*bush + 0.009*administration + 0.007*dean + 0.005*party + 0.004*media + 0.004*democrats\n",
      "Topic 35 : 0.010*bush + 0.006*president + 0.006*campaign + 0.005*voters + 0.005*iraq + 0.004*states\n",
      "Topic 36 : 0.016*iraq + 0.011*bush + 0.010*war + 0.007*president + 0.006*kerry + 0.005*states\n",
      "Topic 37 : 0.017*bush + 0.016*kerry + 0.007*democratic + 0.007*house + 0.006*president + 0.006*democrats\n",
      "Topic 38 : 0.012*kerry + 0.010*campaign + 0.009*dean + 0.007*bush + 0.006*democratic + 0.005*people\n",
      "Topic 39 : 0.022*bush + 0.010*kerry + 0.008*administration + 0.007*campaign + 0.006*president + 0.006*elections\n",
      "Topic 40 : 0.009*dean + 0.006*bush + 0.006*media + 0.005*campaign + 0.005*senate + 0.005*democratic\n",
      "Topic 41 : 0.021*bush + 0.016*november + 0.009*house + 0.008*democrats + 0.008*republicans + 0.007*poll\n",
      "Topic 42 : 0.017*kerry + 0.014*bush + 0.007*dean + 0.007*poll + 0.006*democratic + 0.006*general\n",
      "Topic 43 : 0.019*bush + 0.017*kerry + 0.008*campaign + 0.006*people + 0.006*general + 0.006*war\n",
      "Topic 44 : 0.007*kerry + 0.007*poll + 0.006*dean + 0.006*senate + 0.006*race + 0.006*democratic\n",
      "Topic 45 : 0.019*kerry + 0.017*bush + 0.012*poll + 0.011*november + 0.008*dean + 0.007*democratic\n",
      "Topic 46 : 0.024*bush + 0.008*iraq + 0.008*president + 0.007*war + 0.006*bin + 0.006*laden\n",
      "Topic 47 : 0.018*november + 0.009*house + 0.008*bush + 0.007*party + 0.007*democratic + 0.006*poll\n",
      "Topic 48 : 0.012*bush + 0.008*republicans + 0.008*house + 0.007*democrats + 0.006*iraq + 0.005*republican\n",
      "Topic 49 : 0.018*kerry + 0.014*bush + 0.010*dean + 0.009*edwards + 0.008*poll + 0.006*cheney\n",
      "Topic 50 : 0.007*november + 0.007*bush + 0.007*war + 0.005*house + 0.005*senate + 0.005*political\n",
      "Topic 51 : 0.007*campaign + 0.007*gotv + 0.007*democratic + 0.006*saudi + 0.005*media + 0.005*bush\n",
      "Topic 52 : 0.011*bush + 0.010*kerry + 0.006*iraq + 0.005*campaign + 0.005*court + 0.004*dean\n",
      "Topic 53 : 0.013*bush + 0.009*war + 0.008*iraq + 0.008*november + 0.006*president + 0.005*senate\n",
      "Topic 54 : 0.009*kerry + 0.008*house + 0.008*campaign + 0.008*bush + 0.007*state + 0.005*states\n",
      "Topic 55 : 0.012*kerry + 0.009*poll + 0.009*bush + 0.007*percent + 0.007*edwards + 0.006*polls\n",
      "Topic 56 : 0.023*november + 0.018*bush + 0.013*kerry + 0.008*general + 0.007*senate + 0.007*polls\n",
      "Topic 57 : 0.009*state + 0.008*states + 0.007*house + 0.007*senate + 0.007*poll + 0.007*democratic\n",
      "Topic 58 : 0.013*november + 0.010*bush + 0.006*house + 0.005*election + 0.005*poll + 0.005*democratic\n",
      "Topic 59 : 0.008*bush + 0.007*democratic + 0.007*party + 0.006*november + 0.006*democrats + 0.006*campaign\n",
      "Topic 60 : 0.023*bush + 0.011*kerry + 0.008*administration + 0.006*general + 0.006*war + 0.005*iraq\n",
      "Topic 61 : 0.013*iraq + 0.011*war + 0.010*bush + 0.006*poll + 0.005*people + 0.004*nader\n",
      "Topic 62 : 0.015*bush + 0.010*kerry + 0.008*war + 0.007*iraq + 0.006*republican + 0.006*general\n",
      "Topic 63 : 0.011*kerry + 0.009*bush + 0.007*dean + 0.007*people + 0.006*democratic + 0.006*general\n",
      "Topic 64 : 0.013*bush + 0.007*war + 0.006*state + 0.006*iraq + 0.006*house + 0.006*senate\n",
      "Topic 65 : 0.020*kerry + 0.016*november + 0.011*dean + 0.011*bush + 0.007*war + 0.006*primary\n",
      "Topic 66 : 0.008*bush + 0.007*kerry + 0.006*general + 0.006*senate + 0.006*iraq + 0.004*time\n",
      "Topic 67 : 0.016*bush + 0.009*kerry + 0.007*percent + 0.007*democratic + 0.006*party + 0.006*democrats\n",
      "Topic 68 : 0.009*gotv + 0.008*republicans + 0.008*democratic + 0.008*kerry + 0.008*party + 0.007*dean\n",
      "Topic 69 : 0.025*bush + 0.016*kerry + 0.009*poll + 0.007*democratic + 0.007*time + 0.007*republicans\n",
      "Topic 70 : 0.010*percent + 0.009*bush + 0.009*general + 0.009*november + 0.007*senate + 0.007*nader\n",
      "Topic 71 : 0.011*house + 0.010*bush + 0.010*november + 0.007*kerry + 0.005*republicans + 0.005*democrats\n",
      "Topic 72 : 0.027*november + 0.009*senate + 0.008*house + 0.007*bush + 0.007*democratic + 0.007*poll\n",
      "Topic 73 : 0.014*bush + 0.010*kerry + 0.009*democratic + 0.008*iraq + 0.007*million + 0.006*campaign\n",
      "Topic 74 : 0.009*kerry + 0.009*bush + 0.008*democratic + 0.007*people + 0.006*democrats + 0.005*party\n",
      "Topic 75 : 0.019*bush + 0.018*kerry + 0.008*president + 0.007*dean + 0.006*poll + 0.006*general\n",
      "Topic 76 : 0.026*bush + 0.008*campaign + 0.008*november + 0.007*democratic + 0.006*kerry + 0.006*poll\n",
      "Topic 77 : 0.010*bush + 0.010*kerry + 0.009*war + 0.007*iraq + 0.006*campaign + 0.006*democratic\n",
      "Topic 78 : 0.014*bush + 0.012*kerry + 0.012*campaign + 0.007*general + 0.006*john + 0.005*iraq\n",
      "Topic 79 : 0.015*bush + 0.009*edwards + 0.006*john + 0.006*war + 0.006*kerry + 0.005*attacks\n",
      "Topic 80 : 0.011*bush + 0.011*november + 0.010*poll + 0.010*kerry + 0.006*news + 0.006*vote\n",
      "Topic 81 : 0.010*november + 0.008*iraq + 0.008*war + 0.008*bush + 0.005*democratic + 0.004*percent\n",
      "Topic 82 : 0.017*bush + 0.013*november + 0.012*kerry + 0.006*poll + 0.005*iraq + 0.005*general\n",
      "Topic 83 : 0.009*bush + 0.006*bunning + 0.005*people + 0.005*war + 0.004*poll + 0.004*campaign\n",
      "Topic 84 : 0.016*november + 0.012*bush + 0.006*war + 0.006*polls + 0.006*general + 0.006*republicans\n",
      "Topic 85 : 0.018*november + 0.015*bush + 0.012*kerry + 0.009*house + 0.006*general + 0.006*democrats\n",
      "Topic 86 : 0.013*bush + 0.007*republican + 0.006*general + 0.006*kerry + 0.006*war + 0.005*democratic\n",
      "Topic 87 : 0.035*november + 0.011*republicans + 0.011*poll + 0.009*bush + 0.007*governor + 0.007*electoral\n",
      "Topic 88 : 0.021*dean + 0.013*kerry + 0.009*campaign + 0.008*people + 0.007*bush + 0.006*president\n",
      "Topic 89 : 0.015*bush + 0.014*kerry + 0.008*percent + 0.007*iraq + 0.007*democratic + 0.006*poll\n",
      "Topic 90 : 0.009*war + 0.009*democrats + 0.008*iraq + 0.007*democratic + 0.006*house + 0.006*bush\n",
      "Topic 91 : 0.025*bush + 0.017*november + 0.008*kerry + 0.008*house + 0.007*republicans + 0.006*poll\n",
      "Topic 92 : 0.023*bush + 0.011*kerry + 0.008*war + 0.008*president + 0.007*iraq + 0.007*general\n",
      "Topic 93 : 0.022*november + 0.013*bush + 0.009*house + 0.008*kerry + 0.007*republicans + 0.007*war\n",
      "Topic 94 : 0.026*bush + 0.014*kerry + 0.012*percent + 0.008*poll + 0.006*voters + 0.006*iraq\n",
      "Topic 95 : 0.011*bush + 0.007*specter + 0.007*poll + 0.006*toomey + 0.005*campaign + 0.005*democratic\n",
      "Topic 96 : 0.006*delay + 0.006*republicans + 0.006*democratic + 0.006*house + 0.006*party + 0.006*november\n",
      "Topic 97 : 0.009*bush + 0.007*democratic + 0.007*poll + 0.006*percent + 0.006*kerry + 0.006*party\n",
      "Topic 98 : 0.025*kerry + 0.016*dean + 0.014*edwards + 0.010*democratic + 0.010*november + 0.009*clark\n",
      "Topic 99 : 0.012*iraq + 0.012*bush + 0.009*war + 0.007*november + 0.006*administration + 0.006*percent\n",
      "Topic 100 : 0.016*november + 0.010*poll + 0.009*kerry + 0.008*senate + 0.007*house + 0.006*democratic\n"
     ]
    }
   ],
   "source": [
    "def print_top_topics(model, num_topics):\n",
    "    print 'Number of topics:', model.num_topics\n",
    "    for i, topic in enumerate(default_model.print_topics(num_topics=num_topics, num_words=6)):\n",
    "        print 'Topic', str(i+1), ':', topic\n",
    "\n",
    "print_top_topics(default_model, 100)"
   ]
  },
  {
   "cell_type": "markdown",
   "metadata": {},
   "source": [
    "##### Analysis\n",
    "The top five topics have a great deal of overlap. All of them are about the 2004 US presidential election. The first topic refers contains topics words related to electoral politics in general, and a few words specific to that election, such as \"marriage\" (as in \"gay marriage\", I assume). The second topic is similar, and the third topic is about presidential challengers \"Kerry\", \"Edwards\", and \"Dean. All the other topics seem to be minor variations on these themes."
   ]
  },
  {
   "cell_type": "markdown",
   "metadata": {},
   "source": [
    "#### 1.c Try different values for num_topics\n",
    "\n",
    "Trying out the same model with 5, 10, and 20 different topics."
   ]
  },
  {
   "cell_type": "code",
   "execution_count": 293,
   "metadata": {
    "collapsed": false
   },
   "outputs": [
    {
     "name": "stderr",
     "output_type": "stream",
     "text": [
      "WARNING:gensim.models.ldamulticore:too few updates, training might not converge; consider increasing the number of passes or iterations to improve accuracy\n",
      "WARNING:gensim.models.ldamulticore:too few updates, training might not converge; consider increasing the number of passes or iterations to improve accuracy\n"
     ]
    },
    {
     "name": "stdout",
     "output_type": "stream",
     "text": [
      "Number of topics: 5\n",
      "Topic 1 : 0.010*bush + 0.010*republican + 0.007*states + 0.007*republicans + 0.007*senate + 0.006*state\n",
      "Topic 2 : 0.013*november + 0.010*bush + 0.006*house + 0.005*election + 0.005*poll + 0.005*democratic\n",
      "Topic 3 : 0.009*war + 0.009*democrats + 0.008*iraq + 0.007*democratic + 0.006*house + 0.006*bush\n",
      "Topic 4 : 0.012*dean + 0.008*iowa + 0.008*kerry + 0.007*campaign + 0.007*bush + 0.007*general\n",
      "Topic 5 : 0.019*bush + 0.009*iraq + 0.008*kerry + 0.007*president + 0.006*people + 0.006*war\n"
     ]
    },
    {
     "name": "stderr",
     "output_type": "stream",
     "text": [
      "WARNING:gensim.models.ldamulticore:too few updates, training might not converge; consider increasing the number of passes or iterations to improve accuracy\n"
     ]
    },
    {
     "name": "stdout",
     "output_type": "stream",
     "text": [
      "Number of topics: 10\n",
      "Topic 1 : 0.009*gotv + 0.008*republicans + 0.008*democratic + 0.008*kerry + 0.008*party + 0.007*dean\n",
      "Topic 2 : 0.009*kerry + 0.009*bush + 0.008*democratic + 0.007*people + 0.006*democrats + 0.005*party\n",
      "Topic 3 : 0.009*bush + 0.006*bunning + 0.005*people + 0.005*war + 0.004*poll + 0.004*campaign\n",
      "Topic 4 : 0.017*bush + 0.013*november + 0.012*kerry + 0.006*poll + 0.005*iraq + 0.005*general\n",
      "Topic 5 : 0.020*kerry + 0.016*november + 0.011*dean + 0.011*bush + 0.007*war + 0.006*primary\n",
      "Topic 6 : 0.018*bush + 0.012*kerry + 0.007*iraq + 0.007*war + 0.006*dean + 0.005*poll\n",
      "Topic 7 : 0.019*kerry + 0.013*bush + 0.008*democratic + 0.008*poll + 0.008*dean + 0.007*edwards\n",
      "Topic 8 : 0.016*bush + 0.009*kerry + 0.007*percent + 0.007*democratic + 0.006*party + 0.006*democrats\n",
      "Topic 9 : 0.015*kerry + 0.012*edwards + 0.012*dean + 0.010*democratic + 0.008*primary + 0.008*bush\n",
      "Topic 10 : 0.018*bush + 0.015*kerry + 0.009*iraq + 0.007*war + 0.007*november + 0.007*poll\n",
      "Number of topics: 20\n",
      "Topic 1 : 0.012*bush + 0.008*republicans + 0.008*house + 0.007*democrats + 0.006*iraq + 0.005*republican\n",
      "Topic 2 : 0.013*bush + 0.007*republican + 0.006*general + 0.006*kerry + 0.006*war + 0.005*democratic\n",
      "Topic 3 : 0.019*kerry + 0.013*bush + 0.008*democratic + 0.008*poll + 0.008*dean + 0.007*edwards\n",
      "Topic 4 : 0.020*bush + 0.009*administration + 0.007*dean + 0.005*party + 0.004*media + 0.004*democrats\n",
      "Topic 5 : 0.011*bush + 0.007*specter + 0.007*poll + 0.006*toomey + 0.005*campaign + 0.005*democratic\n",
      "Topic 6 : 0.015*kerry + 0.012*edwards + 0.012*dean + 0.010*democratic + 0.008*primary + 0.008*bush\n",
      "Topic 7 : 0.014*bush + 0.009*kerry + 0.008*house + 0.008*november + 0.007*general + 0.006*democratic\n",
      "Topic 8 : 0.016*november + 0.010*poll + 0.009*kerry + 0.008*senate + 0.007*house + 0.006*democratic\n",
      "Topic 9 : 0.025*bush + 0.016*kerry + 0.012*percent + 0.009*poll + 0.008*president + 0.006*war\n",
      "Topic 10 : 0.017*bush + 0.013*kerry + 0.008*million + 0.007*republicans + 0.006*administration + 0.005*senate\n",
      "Topic 11 : 0.009*bush + 0.007*democratic + 0.007*poll + 0.006*percent + 0.006*kerry + 0.006*party\n",
      "Topic 12 : 0.008*bush + 0.007*kerry + 0.006*general + 0.006*senate + 0.006*iraq + 0.004*time\n",
      "Topic 13 : 0.020*bush + 0.019*kerry + 0.010*democratic + 0.008*percent + 0.008*house + 0.007*poll\n",
      "Topic 14 : 0.009*war + 0.009*democrats + 0.008*iraq + 0.007*democratic + 0.006*house + 0.006*bush\n",
      "Topic 15 : 0.017*bush + 0.013*november + 0.012*kerry + 0.006*poll + 0.005*iraq + 0.005*general\n",
      "Topic 16 : 0.015*bush + 0.014*kerry + 0.008*percent + 0.007*iraq + 0.007*democratic + 0.006*poll\n",
      "Topic 17 : 0.007*campaign + 0.007*gotv + 0.007*democratic + 0.006*saudi + 0.005*media + 0.005*bush\n",
      "Topic 18 : 0.011*bush + 0.011*november + 0.010*poll + 0.010*kerry + 0.006*news + 0.006*vote\n",
      "Topic 19 : 0.013*bush + 0.007*war + 0.006*state + 0.006*iraq + 0.006*house + 0.006*senate\n",
      "Topic 20 : 0.019*bush + 0.018*kerry + 0.008*president + 0.007*dean + 0.006*poll + 0.006*general\n"
     ]
    }
   ],
   "source": [
    "num_topics_list = [5, 10, 20]\n",
    "for num_topics in num_topics_list:\n",
    "    model = models.LdaMulticore(corpus, num_topics=num_topics, id2word=corpus.create_dictionary(), workers=4)\n",
    "    print_top_topics(model, num_topics)"
   ]
  },
  {
   "cell_type": "markdown",
   "metadata": {},
   "source": [
    "##### Analysis\n",
    "I would have expected the topic to become more specific as the number of topics increased, but that doesn't seem to be the case here. The \"Daily KOS\" is a political blog that focuses on US presidential elections nearly exclusively. As a result, varying the number of topics to search for doesn't have much of an effect--the topics overlap so much as to be nearly identical. They are still all related to the 2004 presidential election."
   ]
  },
  {
   "cell_type": "markdown",
   "metadata": {},
   "source": [
    "## Question 4"
   ]
  },
  {
   "cell_type": "code",
   "execution_count": 224,
   "metadata": {
    "collapsed": false
   },
   "outputs": [],
   "source": [
    "# Code that reads in data files for question 4\n",
    "\n",
    "import os\n",
    "\n",
    "class Doc:\n",
    "    def __init__(self, num_topics, topic_priors, word_priors):\n",
    "        self.num_topics = num_topics\n",
    "        self.topic_priors = topic_priors  # alpha.\n",
    "        self.word_priors = word_priors  # beta\n",
    "    \n",
    "\n",
    "def parse_input_file(filename):\n",
    "    num_topics = 0\n",
    "    # Dirichlet hyperparams, aka alphas\n",
    "    topic_priors = []\n",
    "    # Beta prior for this document, words are rows, topic probabilities are columns\n",
    "    word_priors = {}\n",
    "    \n",
    "    with open(filename, 'r') as f:\n",
    "        lines = [line for line in f]\n",
    "        num_topics = int(lines[0])\n",
    "        assert(num_topics > 0)\n",
    "        topic_priors = [float(tok.strip()) for tok in lines[1].split()]\n",
    "        assert(len(topic_priors) == num_topics)\n",
    "        for word_index, line in enumerate(lines[2:]): # TODO make this into a matrix\n",
    "            tokens = line.split()\n",
    "            word = tokens[0].strip()  # not used\n",
    "            word_probs = [float(tok.strip()) for tok in tokens[1:]]\n",
    "            assert(len(word_probs) == num_topics)\n",
    "            word_priors[word_index] = word_probs\n",
    "    return num_topics, topic_priors, word_priors\n",
    "\n",
    "\n",
    "doc = Doc(*parse_input_file('ps4_data/abstract_nips21_NIPS2008_0517.txt.ready'))"
   ]
  },
  {
   "cell_type": "code",
   "execution_count": 225,
   "metadata": {
    "collapsed": false
   },
   "outputs": [],
   "source": [
    "%matplotlib inline\n",
    "\n",
    "import matplotlib\n",
    "import matplotlib.pyplot as plt\n",
    "import numpy as np\n",
    "from numpy.random import mtrand\n",
    "\n",
    "# Sample a topic probability (theta) for the uncollapsed sampler.\n",
    "def sample_topic_dist(topic_priors, topics):\n",
    "    topic_counts = np.bincount(topics, minlength=len(topic_priors))\n",
    "    posterior_topic_priors = [prior + count\n",
    "                              for prior, count in zip(topic_priors, topic_counts)]\n",
    "    return mtrand.dirichlet(posterior_topic_priors)\n",
    "\n",
    "\n",
    "# Create the posterior probabilities for topics (z) for the uncollapsed sampler.\n",
    "def sample_posterior_topic(word_index, word_priors, topic_dist):\n",
    "    posterior_topic_probs = []\n",
    "    denominator = 0.0\n",
    "    word_prior_list = word_priors[word_index]\n",
    "    for topic_index in range(len(topic_dist)):\n",
    "        numerator = word_prior_list[topic_index] * topic_dist[topic_index] \n",
    "        posterior_topic_probs.append(numerator)\n",
    "        denominator += numerator\n",
    "    posterior_topic_probs = [prob/denominator for prob in posterior_topic_probs]\n",
    "    topic_counts = mtrand.multinomial(1, posterior_topic_probs)\n",
    "    for topic_index, sample_value in enumerate(topic_counts):\n",
    "        if sample_value == 1:\n",
    "            return topic_index\n",
    "    raise Exception('Error occured while sampling topic')\n",
    "    \n",
    "\n",
    "# Returns an array of topic distribution samples\n",
    "def uncollapsed_gibbs_sampler(doc, num_iterations):\n",
    "    # Initialize the topic_dist and topics to dummy values to start.\n",
    "    initial_topic_dist = [1.0/doc.num_topics]*num_topics\n",
    "    initial_topics = [1]*len(doc.word_priors)\n",
    "    topic_dist_samples = [initial_topic_dist]\n",
    "    topic_samples = [initial_topics]\n",
    "    \n",
    "    for iteration in range(num_iterations):\n",
    "        prev_topics = topic_samples[-1]\n",
    "        # Sample topic distribution (theta)\n",
    "        topic_dist_sample = sample_topic_dist(doc.topic_priors, prev_topics)\n",
    "        # Initialize the topic sample to be the sample as the last one\n",
    "        topics_sample = list(prev_topics)\n",
    "        for i in range(len(topics_sample)):\n",
    "            # Sample each topic instantiation (z_{mn})\n",
    "            topics_sample[i] = sample_posterior_topic(i, doc.word_priors, \n",
    "                                                      topic_dist_sample)    \n",
    "        topic_dist_samples.append(topic_dist_sample)\n",
    "        topic_samples.append(topics_sample)\n",
    "    # Remove the 'burn' samples\n",
    "    topic_dist_samples = topic_dist_samples[50:]\n",
    "    return np.array(topic_dist_samples)\n",
    "\n",
    "\n",
    "def uncollapsed_expected_value(samples):\n",
    "    return np.mean(samples, axis=0)"
   ]
  },
  {
   "cell_type": "code",
   "execution_count": 290,
   "metadata": {
    "collapsed": false
   },
   "outputs": [],
   "source": [
    "# Uncollapsed topic distribution samples\n",
    "u_topic_dist_samples = uncollapsed_gibbs_sampler(doc, 10000)"
   ]
  },
  {
   "cell_type": "code",
   "execution_count": 292,
   "metadata": {
    "collapsed": false
   },
   "outputs": [
    {
     "data": {
      "image/png": "[encoded data removed]",
      "text/plain": [
       "<matplotlib.figure.Figure at 0x1199527d0>"
      ]
     },
     "metadata": {},
     "output_type": "display_data"
    }
   ],
   "source": [
    "u_topic_dist = uncollapsed_expected_value(u_topic_dist_samples)\n",
    "fig = plt.figure()\n",
    "fig.suptitle('E[theta] -- Uncollapsed Gibbs Sampling', fontsize=20)\n",
    "plt.xlabel('theta')\n",
    "plt.ylabel('proportion')\n",
    "plt.plot(range(len(u_topic_dist)), u_topic_dist)\n",
    "plt.show()"
   ]
  },
  {
   "cell_type": "code",
   "execution_count": 254,
   "metadata": {
    "collapsed": true
   },
   "outputs": [],
   "source": [
    "# Collapsed Gibbs Sampling\n",
    "\n",
    "# Conditional probability of \n",
    "def sample_posterior_topic_collapsed(word_index, topic_sample, word_priors, topic_priors):\n",
    "    # Bucket topic samples, excluding the current topic sample\n",
    "    topic_counts = [0]*len(topic_priors)\n",
    "    for i, topic in enumerate(topic_sample):\n",
    "        if i != word_index:\n",
    "            topic_counts[topic] += 1\n",
    "    # Compute each posterior topic probability\n",
    "    posterior_topic_probs = []\n",
    "    for topic_index in range(len(topic_priors)):\n",
    "        word_prior = word_priors[word_index][topic_index]\n",
    "        topic_prior = topic_priors[topic_index]\n",
    "        topic_count = topic_counts[topic_index]\n",
    "        prob = word_prior * (topic_prior + topic_count)\n",
    "        posterior_topic_probs.append(prob)\n",
    "    normalizer = sum(posterior_topic_probs)\n",
    "    posterior_topic_probs = [prob/normalizer for prob in posterior_topic_probs]\n",
    "    # Sample from the distribution\n",
    "    sample = mtrand.multinomial(1, posterior_topic_probs)\n",
    "    for topic_index, sample_value in enumerate(sample):\n",
    "        if sample_value == 1:\n",
    "            return topic_index\n",
    "    raise Exception('Error occured while sampling topic')\n",
    "    \n",
    "    \n",
    "# Returns an array of topic samples\n",
    "def collapsed_gibbs_sampler(doc, num_iterations):\n",
    "    # Initialize the topics to dummy values to start.\n",
    "    initial_topics = [1]*len(doc.word_priors)\n",
    "    topic_samples = [initial_topics]\n",
    "    for iteration in range(num_iterations):\n",
    "        topic_sample = list(topic_samples[-1])\n",
    "        for i in range(len(topic_sample)):\n",
    "            # Sample each topic instantiation (z_{mn})\n",
    "            topic_sample[i] = sample_posterior_topic_collapsed(\n",
    "                i, topic_sample, doc.word_priors, doc.topic_priors)\n",
    "        topic_samples.append(topic_sample)\n",
    "    # Remove the 'burn' samples\n",
    "    topic_samples = topic_samples[50:]\n",
    "    return np.array(topic_samples)\n",
    "\n",
    "\n",
    "def collapsed_expected_topic_dist(topic_samples, topic_priors):\n",
    "    T = len(topic_samples)\n",
    "    topic_dist = np.zeros(len(topic_priors))\n",
    "    for topic_sample in topic_samples:\n",
    "        topic_dist += np.bincount(topic_sample, minlength=len(topic_priors))\n",
    "    N = len(topic_samples[0])\n",
    "    topic_dist += np.array([N*topic_prior for topic_prior in topic_priors])\n",
    "    topic_dist /= T * (sum(topic_priors) + N)\n",
    "    return topic_dist"
   ]
  },
  {
   "cell_type": "code",
   "execution_count": 260,
   "metadata": {
    "collapsed": false
   },
   "outputs": [],
   "source": [
    "# Collapsed topic distribution samples\n",
    "c_topic_samples = collapsed_gibbs_sampler(doc, 10000)"
   ]
  },
  {
   "cell_type": "code",
   "execution_count": 288,
   "metadata": {
    "collapsed": false
   },
   "outputs": [
    {
     "data": {
      "image/png": "[encoded data removed]",
      "text/plain": [
       "<matplotlib.figure.Figure at 0x11ee80190>"
      ]
     },
     "metadata": {},
     "output_type": "display_data"
    }
   ],
   "source": [
    "c_topic_dist = collapsed_expected_topic_dist(c_topic_samples, doc.topic_priors)\n",
    "fig = plt.figure()\n",
    "fig.suptitle('E[theta] -- Collapsed Gibbs Sampling', fontsize=20)\n",
    "plt.xlabel('theta')\n",
    "plt.ylabel('proportion')\n",
    "plt.plot(range(len(c_topic_dist)), c_topic_dist)\n",
    "plt.show()"
   ]
  },
  {
   "cell_type": "code",
   "execution_count": 285,
   "metadata": {
    "collapsed": false
   },
   "outputs": [
    {
     "data": {
      "image/png": "[encoded data removed]",
      "text/plain": [
       "<matplotlib.figure.Figure at 0x11ed43b90>"
      ]
     },
     "metadata": {},
     "output_type": "display_data"
    }
   ],
   "source": [
    "import math\n",
    "\n",
    "def plot_error(samples, start_num_iterations, topic_priors):\n",
    "    assert(start_num_iterations < len(samples))\n",
    "    gt_topic_dist = collapsed_expected_topic_dist(samples, topic_priors)\n",
    "    errors = []\n",
    "    for i in range(start_num_iterations, len(samples), 10):\n",
    "        tmp_topic_dist = collapsed_expected_topic_dist(samples[:i], topic_priors)\n",
    "        error = math.sqrt(sum((gt_topic_dist - tmp_topic_dist)**2))\n",
    "        errors.append(error)\n",
    "    fig = plt.figure()\n",
    "    fig.suptitle('Mean Squared Error of theta', fontsize=20)\n",
    "    plt.xlabel('iteration')\n",
    "    plt.ylabel('MSE')\n",
    "    plt.plot(range(len(errors)), errors)\n",
    "    plt.show()\n",
    "\n",
    "plot_error(c_topic_samples, 100, doc.topic_priors)"
   ]
  }
 ],
 "metadata": {
  "kernelspec": {
   "display_name": "Python 2",
   "language": "python",
   "name": "python2"
  },
  "language_info": {
   "codemirror_mode": {
    "name": "ipython",
    "version": 2
   },
   "file_extension": ".py",
   "mimetype": "text/x-python",
   "name": "python",
   "nbconvert_exporter": "python",
   "pygments_lexer": "ipython2",
   "version": "2.7.10"
  }
 },
 "nbformat": 4,
 "nbformat_minor": 0
}
