{
 "cells": [
  {
   "cell_type": "code",
   "execution_count": 2,
   "metadata": {
    "collapsed": false
   },
   "outputs": [],
   "source": [
    "# Question 2, Part A\n",
    "# Alex Pine\n",
    "# Peter Li helped me debug this code.\n",
    "\n",
    "# Code that reads in data files for question 2, copied from Homework 4\n",
    "\n",
    "import numpy as np\n",
    "import os\n",
    "\n",
    "def parse_input_file(filename):\n",
    "    num_topics = 0\n",
    "    # Dirichlet hyperparams, aka alphas\n",
    "    topic_priors = []\n",
    "    # Beta prior for this document, words are rows, topic probabilities are columns.\n",
    "    # This is the transpose of how Blei et al. do it.\n",
    "    word_priors = []\n",
    "    \n",
    "    \n",
    "    with open(filename, 'r') as f:\n",
    "        lines = [line for line in f]\n",
    "        num_topics = int(lines[0])\n",
    "        assert(num_topics > 0)\n",
    "        topic_priors = [float(tok.strip()) for tok in lines[1].split()]\n",
    "        assert(len(topic_priors) == num_topics)\n",
    "        for line in lines[2:]:\n",
    "            tokens = line.split()\n",
    "            word = tokens[0].strip()  # Not used\n",
    "            word_probs = [float(tok.strip()) for tok in tokens[1:]]\n",
    "            assert(len(word_probs) == num_topics)\n",
    "            word_priors.append(word_probs)\n",
    "    return num_topics, np.array(topic_priors), np.array(word_priors)\n",
    "\n",
    "\n",
    "num_topics, topic_priors, word_priors = parse_input_file(\n",
    "    'ps4_data/abstract_nips21_NIPS2008_0517.txt.ready')"
   ]
  },
  {
   "cell_type": "code",
   "execution_count": 16,
   "metadata": {
    "collapsed": false
   },
   "outputs": [],
   "source": [
    "import scipy.special\n",
    "\n",
    "# Variational EM, from Blei et al (2003), which estimates the value of gamma,\n",
    "# the prior to theta.\n",
    "def variational_em(num_topics, topic_priors, word_priors, num_iterations):\n",
    "    num_words = len(word_priors)\n",
    "    # The algo doesn't to actually use this.\n",
    "    phi = np.full((num_words, num_topics), 1.0/num_topics)\n",
    "    gammas = [np.array([topic_prior + float(num_words)/num_topics\n",
    "                        for topic_prior in topic_priors])]\n",
    "    for iteration in range(num_iterations-1):\n",
    "        for word_index in range(num_words):\n",
    "            prev_gamma = gammas[-1]\n",
    "            phi_normalizer = 0.0\n",
    "            for topic_index in range(num_topics):\n",
    "                beta_val = word_priors[word_index][topic_index]\n",
    "                gamma_val = prev_gamma[topic_index]\n",
    "                psi = scipy.special.digamma(gamma_val)\n",
    "                phi[word_index][topic_index] = beta_val * np.exp(psi)\n",
    "                phi_normalizer += phi[word_index][topic_index]\n",
    "            # normalize phi_ni\n",
    "            for topic_index in range(num_topics):\n",
    "                phi[word_index][topic_index] /= phi_normalizer\n",
    "        new_gamma = np.add(topic_priors, np.sum(phi, axis=0))\n",
    "        gammas.append(new_gamma)\n",
    "    return gammas\n",
    "\n",
    "# This takes a numpy array gamma that represents a Dirichlet-distributed \n",
    "# variable, and uses it to compute the expected value of a categorical\n",
    "# variable.\n",
    "def vem_expected_topic_dist(gamma):\n",
    "    return gamma / sum(gamma)"
   ]
  },
  {
   "cell_type": "code",
   "execution_count": 4,
   "metadata": {
    "collapsed": false
   },
   "outputs": [],
   "source": [
    "vem_topic_dist_samples = variational_em(num_topics, topic_priors, word_priors, \n",
    "                                        1000)"
   ]
  },
  {
   "cell_type": "code",
   "execution_count": 7,
   "metadata": {
    "collapsed": false
   },
   "outputs": [
    {
     "data": {
      "image/png": "[encoded data removed]",
      "text/plain": [
       "<matplotlib.figure.Figure at 0x115fbed10>"
      ]
     },
     "metadata": {},
     "output_type": "display_data"
    }
   ],
   "source": [
    "%matplotlib inline\n",
    "\n",
    "import matplotlib.pyplot as plt\n",
    "\n",
    "vem_topic_dist = vem_topic_dist_samples[-1]\n",
    "fig = plt.figure(1, figsize=(10, 8))\n",
    "fig.suptitle('E[theta] -- Variational', fontsize=20)\n",
    "plt.xlabel('Theta', fontsize=15)\n",
    "plt.ylabel('Proportion', fontsize=15)\n",
    "plt.plot(range(len(vem_topic_dist)), vem_topic_dist)\n",
    "plt.show()"
   ]
  },
  {
   "cell_type": "code",
   "execution_count": 8,
   "metadata": {
    "collapsed": true
   },
   "outputs": [],
   "source": [
    "# Uncollapsed Gibbs sampling code, taken from homework 4.\n",
    "\n",
    "import matplotlib\n",
    "from numpy.random import mtrand\n",
    "\n",
    "# Sample a topic probability (theta) for the uncollapsed sampler.\n",
    "def sample_topic_dist(topic_priors, topics):\n",
    "    topic_counts = np.bincount(topics, minlength=len(topic_priors))\n",
    "    posterior_topic_priors = [prior + count\n",
    "                              for prior, count in zip(topic_priors, topic_counts)]\n",
    "    return mtrand.dirichlet(posterior_topic_priors)\n",
    "\n",
    "\n",
    "# Create the posterior probabilities for topics (z) for the uncollapsed sampler.\n",
    "def sample_posterior_topic(word_index, word_priors, topic_dist):\n",
    "    posterior_topic_probs = []\n",
    "    denominator = 0.0\n",
    "    word_prior_list = word_priors[word_index]\n",
    "    for topic_index in range(len(topic_dist)):\n",
    "        numerator = word_prior_list[topic_index] * topic_dist[topic_index] \n",
    "        posterior_topic_probs.append(numerator)\n",
    "        denominator += numerator\n",
    "    posterior_topic_probs = [prob/denominator for prob in posterior_topic_probs]\n",
    "    topic_counts = mtrand.multinomial(1, posterior_topic_probs)\n",
    "    for topic_index, sample_value in enumerate(topic_counts):\n",
    "        if sample_value == 1:\n",
    "            return topic_index\n",
    "    raise Exception('Error occured while sampling topic')\n",
    "    \n",
    "\n",
    "# Returns an array of topic distribution samples\n",
    "def uncollapsed_gibbs_sampler(num_topics, topic_priors, word_priors, \n",
    "                              num_iterations):\n",
    "    # Initialize the topic_dist and topics to dummy values to start.\n",
    "    initial_topic_dist = [1.0/num_topics]*num_topics\n",
    "    initial_topics = [1]*len(word_priors)\n",
    "    topic_dist_samples = [initial_topic_dist]\n",
    "    topic_samples = [initial_topics]\n",
    "    \n",
    "    for iteration in range(num_iterations):\n",
    "        prev_topics = topic_samples[-1]\n",
    "        # Sample topic distribution (theta)\n",
    "        topic_dist_sample = sample_topic_dist(topic_priors, prev_topics)\n",
    "        # Initialize the topic sample to be the sample as the last one\n",
    "        topics_sample = list(prev_topics)\n",
    "        for i in range(len(topics_sample)):\n",
    "            # Sample each topic instantiation (z_{mn})\n",
    "            topics_sample[i] = sample_posterior_topic(i, word_priors, \n",
    "                                                      topic_dist_sample)    \n",
    "        topic_dist_samples.append(topic_dist_sample)\n",
    "        topic_samples.append(topics_sample)\n",
    "    # Remove the 'burn' samples\n",
    "    topic_dist_samples = topic_dist_samples[50:]\n",
    "    return np.array(topic_dist_samples)\n",
    "\n",
    "\n",
    "def uncollapsed_expected_topic_dist(samples):\n",
    "    return np.mean(samples, axis=0)"
   ]
  },
  {
   "cell_type": "code",
   "execution_count": 9,
   "metadata": {
    "collapsed": false
   },
   "outputs": [],
   "source": [
    "# Uncollapsed topic distribution samples\n",
    "u_topic_dist_samples = uncollapsed_gibbs_sampler(num_topics, topic_priors, word_priors,\n",
    "                                                 1000)"
   ]
  },
  {
   "cell_type": "code",
   "execution_count": 10,
   "metadata": {
    "collapsed": true
   },
   "outputs": [],
   "source": [
    "# Collapsed Gibbs Sampling, taken from homework 4.\n",
    "\n",
    "# Conditional probability of theta.\n",
    "def sample_posterior_topic_collapsed(word_index, topic_sample, word_priors, \n",
    "                                     topic_priors):\n",
    "    # Bucket topic samples, excluding the current topic sample\n",
    "    topic_counts = [0]*len(topic_priors)\n",
    "    for i, topic in enumerate(topic_sample):\n",
    "        if i != word_index:\n",
    "            topic_counts[topic] += 1\n",
    "    # Compute each posterior topic probability\n",
    "    posterior_topic_probs = []\n",
    "    for topic_index in range(len(topic_priors)):\n",
    "        word_prior = word_priors[word_index][topic_index]\n",
    "        topic_prior = topic_priors[topic_index]\n",
    "        topic_count = topic_counts[topic_index]\n",
    "        prob = word_prior * (topic_prior + topic_count)\n",
    "        posterior_topic_probs.append(prob)\n",
    "    normalizer = sum(posterior_topic_probs)\n",
    "    posterior_topic_probs = [prob/normalizer for prob in posterior_topic_probs]\n",
    "    # Sample from the distribution\n",
    "    sample = mtrand.multinomial(1, posterior_topic_probs)\n",
    "    for topic_index, sample_value in enumerate(sample):\n",
    "        if sample_value == 1:\n",
    "            return topic_index\n",
    "    raise Exception('Error occured while sampling topic')\n",
    "    \n",
    "    \n",
    "# Returns an array of topic samples\n",
    "def collapsed_gibbs_sampler(num_topics, topic_priors, word_priors, num_iterations):\n",
    "    # Initialize the topics to dummy values to start.\n",
    "    initial_topics = [1]*len(word_priors)\n",
    "    topic_samples = [initial_topics]\n",
    "    for iteration in range(num_iterations):\n",
    "        topic_sample = list(topic_samples[-1])\n",
    "        for i in range(len(topic_sample)):\n",
    "            # Sample each topic instantiation (z_{mn})\n",
    "            topic_sample[i] = sample_posterior_topic_collapsed(\n",
    "                i, topic_sample, word_priors, topic_priors)\n",
    "        topic_samples.append(topic_sample)\n",
    "    # Remove the 'burn' samples\n",
    "    topic_samples = topic_samples[50:]\n",
    "    return np.array(topic_samples)\n",
    "\n",
    "\n",
    "# Returns the expected value of the topic distribution (theta).\n",
    "def collapsed_expected_topic_dist(topic_samples, topic_priors):\n",
    "    T = len(topic_samples)\n",
    "    topic_dist = np.zeros(len(topic_priors))\n",
    "    for topic_sample in topic_samples:\n",
    "        topic_dist += np.bincount(topic_sample, minlength=len(topic_priors))\n",
    "    N = len(topic_samples[0])\n",
    "    topic_dist += np.array([N*topic_prior for topic_prior in topic_priors])\n",
    "    topic_dist /= T * (sum(topic_priors) + N)\n",
    "    return topic_dist"
   ]
  },
  {
   "cell_type": "code",
   "execution_count": 11,
   "metadata": {
    "collapsed": true
   },
   "outputs": [],
   "source": [
    "# Collapsed topic distribution samples\n",
    "c_topic_samples = collapsed_gibbs_sampler(num_topics, topic_priors, word_priors, \n",
    "                                          1000)"
   ]
  },
  {
   "cell_type": "code",
   "execution_count": 25,
   "metadata": {
    "collapsed": false,
    "scrolled": false
   },
   "outputs": [
    {
     "data": {
      "image/png": "[encoded data removed]",
      "text/plain": [
       "<matplotlib.figure.Figure at 0x115faa310>"
      ]
     },
     "metadata": {},
     "output_type": "display_data"
    }
   ],
   "source": [
    "# Plotting L2 errors of variational EM, uncollapsed, and collasped Gibbs sampling.\n",
    "\n",
    "import math\n",
    "# u_samples are thetas and c_samples are z's.\n",
    "def plot_error(vem_samples, u_samples, c_samples, topic_priors):\n",
    "    assert len(u_samples) == len(c_samples), len(c_topic_samples)\n",
    "    # Using collapsed sampler as ground truth\n",
    "    gt_topic_dist = collapsed_expected_topic_dist(c_samples, topic_priors)\n",
    "    xaxis = range(1, len(c_samples), 10)\n",
    "    vem_errors = []\n",
    "    u_errors = []\n",
    "    c_errors = []\n",
    "    for i in xaxis:\n",
    "        tmp_vem_topic_dist = vem_expected_topic_dist(vem_samples[i])\n",
    "        vem_error = math.sqrt(sum((gt_topic_dist - tmp_vem_topic_dist)**2))\n",
    "        vem_errors.append(vem_error)\n",
    "        tmp_u_topic_dist = uncollapsed_expected_topic_dist(u_samples[:i])\n",
    "        u_error = math.sqrt(sum((gt_topic_dist - tmp_u_topic_dist)**2))\n",
    "        u_errors.append(u_error)\n",
    "        tmp_c_topic_dist = collapsed_expected_topic_dist(c_samples[:i], topic_priors)\n",
    "        c_error = math.sqrt(sum((gt_topic_dist - tmp_c_topic_dist)**2))\n",
    "        c_errors.append(c_error)\n",
    "    fig = plt.figure(1, figsize=(10, 8))\n",
    "    fig.suptitle('Mean Squared Error of Theta', fontsize=20)\n",
    "    plt.xlabel('Iteration', fontsize=15)\n",
    "    plt.ylabel('log MSE', fontsize=15)\n",
    "    vem_line, = plt.plot(xaxis, vem_errors)    \n",
    "    u_gibbs_line, = plt.plot(xaxis, u_errors)\n",
    "    c_gibbs_line, = plt.plot(xaxis, c_errors)\n",
    "    plt.legend([vem_line, u_gibbs_line, c_gibbs_line], \n",
    "               ['Variational', 'Uncollapsed Gibbs', 'Collapsed Gibbs'],\n",
    "               loc='lower left')\n",
    "    plt.yscale('log')\n",
    "    plt.show()\n",
    "\n",
    "plot_error(vem_topic_dist_samples, u_topic_dist_samples, c_topic_samples, \n",
    "           topic_priors)"
   ]
  },
  {
   "cell_type": "markdown",
   "metadata": {},
   "source": [
    "## Part B: Analysis\n",
    "\n",
    "The variational algorithm converges the fastest of the three. It converges only after a few iterations, while both versions of Gibbs sampling continue to have their error decline as the number of iterations increases. Additionally, the there is no randomness in the variational algorithm, so it converges to a precise value, with no fluctuations.\n",
    "\n",
    "However, the variational algorithm's converged estimate for theta is only a lower bound to the true theta, so it has a higher error than either of the Gibbs methods. "
   ]
  }
 ],
 "metadata": {
  "kernelspec": {
   "display_name": "Python 2",
   "language": "python",
   "name": "python2"
  },
  "language_info": {
   "codemirror_mode": {
    "name": "ipython",
    "version": 2
   },
   "file_extension": ".py",
   "mimetype": "text/x-python",
   "name": "python",
   "nbconvert_exporter": "python",
   "pygments_lexer": "ipython2",
   "version": "2.7.10"
  }
 },
 "nbformat": 4,
 "nbformat_minor": 0
}
