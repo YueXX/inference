{
 "cells": [
  {
   "cell_type": "markdown",
   "metadata": {},
   "source": [
    "# Inference Homework 1\n",
    "## Alex Pine, 2015/09/12"
   ]
  },
  {
   "cell_type": "markdown",
   "metadata": {},
   "source": [
    "## TODO problem 1"
   ]
  },
  {
   "cell_type": "markdown",
   "metadata": {},
   "source": [
    "## TODO problem 2"
   ]
  },
  {
   "cell_type": "markdown",
   "metadata": {},
   "source": [
    "## TODO problem 3"
   ]
  },
  {
   "cell_type": "markdown",
   "metadata": {},
   "source": [
    "## TODO problem 4"
   ]
  },
  {
   "cell_type": "markdown",
   "metadata": {},
   "source": [
    "## TODO problem 5\n",
    "Show that there is no directed acyclic graph $G$ such that $I_{d-sep(G)} = I(p)$.\n",
    "\n",
    "Proof:\n",
    "TODO Show conditional dependence between all permutations of the three variables.\n",
    "\n",
    "(hand wave) This implies that G is fully connected. A fully connected graph with three nodes has cycles, so there is no DAG such that $I_{d-sep(G)} = I(p)$.\n",
    "\n",
    "\n",
    "TODO Confusion: If X and Y are not independent, does that imply you can draw an edge between them?\n",
    "TODO I proved each  pair of variables are independent. Does this imply there are no edges betwen all nodes?\n",
    "TODO I don't really know how to compute p(x,y|z)"
   ]
  },
  {
   "cell_type": "markdown",
   "metadata": {},
   "source": [
    "## TODO problem 6"
   ]
  },
  {
   "cell_type": "markdown",
   "metadata": {},
   "source": [
    "## TODO problem 7\n",
    "### a) Conditional Probability Tables\n",
    "| Forecast    |      |\n",
    "|-------------|------|\n",
    "| WillRain    | 0.30 |\n",
    "| WillNotRain | 0.70 |\n",
    "\n",
    "| Umbrella |          |             |\n",
    "|----------|----------|-------------|\n",
    "| Forecast | WillRain | WillNotRain |\n",
    "| Yes      | 0.75     | 0.05        |\n",
    "| No       | 0.25     | 0.95        |\n",
    "\n",
    "| Rain     |          |             |\n",
    "|----------|----------|-------------|\n",
    "| Forecast | WillRain | WillNotRain |\n",
    "| Yes      | 0.85     | 0.05        |\n",
    "| No       | 0.15     | 0.95        |\n",
    "\n",
    "| Drenched |      |     |     |     |\n",
    "|----------|------|-----|-----|-----|\n",
    "| Umbrella | Yes  | Yes | No  | No  |\n",
    "| Rain     | Yes  | No  | Yes | No  |\n",
    "| Yes      | 0.05 | 0.0 | 0.8 | 0.0 |\n",
    "| No       | 0.95 | 1.0 | 0.2 | 1.0 |\n",
    "\n",
    "| Cold     |      |     |\n",
    "|----------|------|-----|\n",
    "| Drenched | Yes  | No  |\n",
    "| Yes      | 0.90 | 0.5 |\n",
    "| No       | 0.10 | 0.5 |\n",
    "\n",
    "| Sprinkler |      |\n",
    "|-----------|------|\n",
    "| On        | 0.25 |\n",
    "| Off       | 0.75 |\n",
    "\n",
    "| Wet Grass |     |      |     |      |\n",
    "|-----------|-----|------|-----|------|\n",
    "| Rain      | Yes | Yes  | No  | No   |\n",
    "| Sprinkler | On  | Off  | On  | Off  |\n",
    "| Yes       | 1.0 | 0.95 | 1.0 | 0.01 |\n",
    "| No        | 0.0 | 0.05 | 0.0 | 0.99 |"
   ]
  },
  {
   "cell_type": "markdown",
   "metadata": {},
   "source": [
    "### b) Perturb Forecast, observe effects\n",
    "#### Before perturbation\n",
    "Forecast CPD:\n",
    "\n",
    "| Forecast    |      |\n",
    "|-------------|------|\n",
    "| WillRain    | 0.30 |\n",
    "| WillNotRain | 0.70 |\n",
    "\n",
    "Marginal probability for Cold:\n",
    "\n",
    "| Cold     |      |\n",
    "|----------|------|\n",
    "| Yes      | 0.5349 |\n",
    "| No       | 0.4651 |\n",
    "\n",
    "#### After perturbation:\n",
    "\n",
    "| Forecast    |      |\n",
    "|-------------|------|\n",
    "| WillRain    | 1.00 |\n",
    "| WillNotRain | 0.00 |\n",
    "\n",
    "Marginal probability for Cold:\n",
    "\n",
    "| Cold     |      |\n",
    "|----------|------|\n",
    "| Yes      | 0.5807 |\n",
    "| No       | 0.4193 |\n",
    "\n",
    "#### Analysis\n",
    "Even though the prior probability for the WillRain forecast went from 30% to 100%, the probability of the Yes value for Cold only increased from 53.49% to 58.07%. Intuitively, this is because the effect of Forecast on Cold is diluted by the all the variables between them. Even if the weatherman forecasts 100% chance of rain, in order for that to result in me being cold, his prediction for rain must be accurate, I probably have to have forgetten my umbrella, and I probably had have gotten drenched. Even then, me being drenched is not a perfect predictor of me being cold. For the probability of Cold to increase significantly, the conditional probability distributions on the variables between it and Forecast must change as well."
   ]
  },
  {
   "cell_type": "markdown",
   "metadata": {},
   "source": [
    "### c) \"Cold = Yes\", noting its effect on \"Rain\"\n",
    "\n",
    "#### Before observing \"Cold = Yes\"\n",
    "\n",
    "| Rain     |          |\n",
    "|----------|----------|\n",
    "| Yes      | 0.29     |\n",
    "| No       | 0.71     |\n",
    "\n",
    "#### After observing \"Cold = Yes\"\n",
    "\n",
    "| Rain     |          |\n",
    "|----------|----------|\n",
    "| Yes      | 0.3363     |\n",
    "| No       | 0.6637     |\n",
    "\n",
    "#### Analysis\n",
    "After observing that \"Cold = Yes\", the marginal probability of it \"Rain = Yes\" increased from 29% to 33.63%. This is because Cold is influenced by Rain, so knowing that it is Cold makes it more likely that Rain was its underlying cause. "
   ]
  },
  {
   "cell_type": "markdown",
   "metadata": {},
   "source": [
    "### d) Effect of WetGrass on Cold\n",
    "#### Before observing WetGrass\n",
    "| Cold     |      |\n",
    "|----------|------|\n",
    "| Yes      | 0.5349 |\n",
    "| No       | 0.4651 |\n",
    "\n",
    "#### After observing \"WetGrass = Yes\"\n",
    "| Cold     |      |\n",
    "|----------|------|\n",
    "| Yes      | 0.5727 |\n",
    "| No       | 0.4273 |\n",
    "\n",
    "#### After observing \"WetGrass = No\"\n",
    "| Cold     |      |\n",
    "|----------|------|\n",
    "| Yes      | 0.5024 |\n",
    "| No       | 0.4976 |\n",
    "\n",
    "#### Analysis\n",
    "\n",
    "When the grass is wet, a likely reason for it was that it rained. Rain increases the likelihood of getting drenched, which increases the likelihood of getting cold. Similarly, if the grass is not wet, that decreases the likelihood that it rained, which decreases the likelihood of getting drenched, which decreases the likelihood of getting cold.\n",
    "To use the terminology from the \"Bayes Ball\" algorithm, since WetGrass is a child of Rain, observing its state allows  the ball to bounce from there to Rain. Since Drenched is a child of Rain, and Cold a child of Drenched, the ball can bounce all the way to Cold."
   ]
  },
  {
   "cell_type": "markdown",
   "metadata": {},
   "source": [
    "### e) Effect of Sprinkler and WetGrass on Cold\n",
    "#### Before observing either\n",
    "| Cold     |      |\n",
    "|----------|------|\n",
    "| Yes      | 0.5349 |\n",
    "| No       | 0.4651 |\n",
    "\n",
    "#### After observing \"Sprinkler = Off\"\n",
    "| Cold     |      |\n",
    "|----------|------|\n",
    "| Yes      | 0.5349 |\n",
    "| No       | 0.4651 |\n",
    "\n",
    "(No change)\n",
    "\n",
    "#### After observing \"Sprinkler = Off\" and \"WetGrass = Yes\"\n",
    "\n",
    "| Cold     |      |\n",
    "|----------|------|\n",
    "| Yes      | 0.6173 |\n",
    "| No       | 0.3827 |\n",
    "\n",
    "#### Analysis\n",
    "Observing the sprinkler's state alone has no effect on the marginal probability of it being cold. This is because Cold and Rain are both parents of WetGrass. The Bayes Ball algorithm states that information from one parent cannot flow through its child to another parent unless the child has also been observed. That is why, when WetGrass was set to \"Yes\", the likelihood of Cold increased. Now that we know the sprinkler was off, and that the grass is dry, it makes it all but certain that it rained, which increases the liklihood of being cold."
   ]
  },
  {
   "cell_type": "markdown",
   "metadata": {},
   "source": [
    "### f) Effect of a perfect forecast\n",
    "#### Marginal Probability of Cold with imperfect forecast\n",
    "| Rain     |          |             |\n",
    "|----------|----------|-------------|\n",
    "| Forecast | WillRain | WillNotRain |\n",
    "| Yes      | 0.85     | 0.05        |\n",
    "| No       | 0.15     | 0.95        |\n",
    "\n",
    "| Cold     |      |\n",
    "|----------|------|\n",
    "| Yes      | 0.5349 |\n",
    "| No       | 0.4651 |\n",
    "\n",
    "#### After perfect forecast\n",
    "\n",
    "| Cold     |      |\n",
    "|----------|------|\n",
    "| Yes      | 0.506 |\n",
    "| No       | 0.494 |\n",
    "\n",
    "#### Analysis\n",
    "If the forecast is perfectly predictive of rain, and I always bring my umbrella when it rains, then the liklihood of being cold decreases to 50.6% from 53.49%. This is because, in this situation, I always have my umbrella when it rains, making it less likely that I will get drenched, and thus less likely making it less likely that I get cold from being drenched. To test this, we can observe \"Rain = Yes\", and see that the marginal likelihood for Umbrella increases to 100%."
   ]
  },
  {
   "cell_type": "code",
   "execution_count": null,
   "metadata": {
    "collapsed": true
   },
   "outputs": [],
   "source": []
  }
 ],
 "metadata": {
  "kernelspec": {
   "display_name": "Python 2",
   "language": "python",
   "name": "python2"
  },
  "language_info": {
   "codemirror_mode": {
    "name": "ipython",
    "version": 2
   },
   "file_extension": ".py",
   "mimetype": "text/x-python",
   "name": "python",
   "nbconvert_exporter": "python",
   "pygments_lexer": "ipython2",
   "version": "2.7.10"
  }
 },
 "nbformat": 4,
 "nbformat_minor": 0
}
