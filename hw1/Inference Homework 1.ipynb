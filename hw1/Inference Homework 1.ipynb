{
 "cells": [
  {
   "cell_type": "markdown",
   "metadata": {},
   "source": [
    "# Inference Homework 1\n",
    "## Alex Pine, 2015/09/12"
   ]
  },
  {
   "cell_type": "markdown",
   "metadata": {},
   "source": [
    "## Problem 1\n",
    "\n",
    "A rare disease is good news, because even a test that is 99% accurate still has a high false positive rate. The chance that you have the disease given a positive test is only 0.4%, as shown by the following logic:\n",
    "\n",
    "Given probabilities:\n",
    "$$p(T = \\text{pos} | D = \\text{true} = 0.99, p(D = \\text{true}) = \\frac{1}{25000}$$\n",
    "\n",
    "Marginalize $p(T = \\text{pos})$:\n",
    "$$ p(T = \\text{pos}) = p(T = \\text{pos} | D = \\text{true})p(D = \\text{true}) + p(T = \\text{pos} | D = \\text{false})p(D = \\text{false})$$\n",
    "$$p(T = \\text{pos}) = 0.99 \\frac{1}{25000} + .01 \\frac{24999}{25000}$$\n",
    "\n",
    "Put it together using Bayes' rule:\n",
    "$$p(D = \\text{true} | T = \\text{pos}) = \\frac{p(T = \\text{pos} | D = \\text{true})p(D = \\text{true})}{p(T = \\text{pos})}$$\n",
    "\n",
    "$$p(D = \\text{true} | T = \\text{pos}) = \\frac{0.99 \\frac{1}{25000}}{0.99 \\frac{1}{25000} + .01 \\frac{24999}{25000}}$$\n",
    "\n",
    "$$p(D = \\text{true} | T = \\text{pos}) = \\frac{99}{99 + 24999} = 0.00394 ~= 0.4\\%$$"
   ]
  },
  {
   "cell_type": "markdown",
   "metadata": {},
   "source": [
    "## TODO problem 2\n",
    "\n",
    "### 2.a $p(X_2 = \\text{Happy})$ \n",
    "\n",
    "$$ p(X_2 = \\text{Happy}) = p(X_2 = \\text{Happy} | X_1 = \\text{Happy})p(X_1 = \\text{Happy}) + p(X_2 = \\text{Happy} | X_1 = \\text{Angry})p(X_1 = \\text{Angry}) $$\n",
    "\n",
    "$$ p(X_2 = \\text{Happy}) = 0.9(1.0) + 0.1(0.0)$$\n",
    "\n",
    "$$ p(X_2 = \\text{Happy}) = 0.9 $$"
   ]
  },
  {
   "cell_type": "markdown",
   "metadata": {},
   "source": [
    "### 2.b $p(Y_2 = \\text{Frown})$ \n",
    "\n",
    "$$ p(Y_2 = \\text{Frown}) = p(Y_2 = \\text{Frown} | X_2 = \\text{Happy})p(X_2 = \\text{Happy}) + p(Y_2 = \\text{Frown} | X_2 = \\text{Angry})p(X_2 = \\text{Angry}) $$\n",
    "\n",
    "$$ p(Y_2 = \\text{Frown}) = 0.1(0.9) + 0.6(1.0 - 0.9)$$\n",
    "\n",
    "$$ p(Y_2 = \\text{Frown}) = 0.63 $$"
   ]
  },
  {
   "cell_type": "markdown",
   "metadata": {},
   "source": [
    "### 2.c $ p(X_2 = \\text{Happy} | Y_2 = \\text{Frown}) $\n",
    "\n",
    "$$ p(X_2 = \\text{Happy} | Y_2 = \\text{Frown}) =\n",
    "     \\frac{p(Y_2 = \\text{Frown} | X_2 = \\text{Happy}) p(X_2 = \\text{Happy})}\n",
    "     {p(Y_2 = \\text{Frown})} $$\n",
    "     \n",
    "$$ p(X_2 = \\text{Happy} | Y_2 = \\text{Frown}) = \\frac{0.1(0.9)}{0.63} $$\n",
    "\n",
    "$$ p(X_2 = \\text{Happy} | Y_2 = \\text{Frown}) = 0.143 $$"
   ]
  },
  {
   "cell_type": "markdown",
   "metadata": {},
   "source": [
    "### 2.d $ p(Y_{80} = \\text{yell}) $\n",
    "\n",
    "$ p(Y_{80} = \\text{Yell})$ is given by the following formula:\n",
    "\n",
    "$$ p(Y_{80} = \\text{Yell}) = p(Y_{80} = \\text{Yell} | X_{80} = \\text{Happy})p(X_{80} = \\text{Happy}) + p(Y_{80} = \\text{Yell} | X_{80} = \\text{Angry})p(X_{80} = \\text{Angry}) $$\n",
    "\n",
    "To compute this, we need to find an expression for $p(X_{80} = \\text{Happy})$. The reccurance relation for $p(X_t = \\text{Happy})$ is given by the following:\n",
    "\n",
    "$$ p(X_t = H) = 0.9 p(X_{t-1} = H) + 0.1(1 - p(X_{t-1} = H)) $$\n",
    "\n",
    "$$ p(X_t = H) = 0.8p(X_{t-1} = H) + 0.1 $$\n",
    "\n",
    "This recurrance relation has the following closed form:\n",
    "$$  p(X_t = H) = (0.8)^{t-1} + 0.1\\sum_{i=1}^{t-1} (0.8)^{i-1} $$\n",
    "\n",
    "Remembering the following rule for geometric series:\n",
    "$$ \\sum_{k=1}^{n} a r^{k-1} = \\frac{a(1-r^n)}{1-r} $$\n",
    "Our expression for $p(X_t)$ becomes:\n",
    "\n",
    "$$  p(X_t = H) = (0.8)^{t-1} + \\frac{0.1(1-0.8^{t-1})}{1-0.8} $$\n",
    "\n",
    "$$ p(X_t = H) = \\frac{1}{2}(1 + 0.8^{t-1}) $$\n",
    "\n",
    "When $t = 80$, this becomes\n",
    "\n",
    "$$ p(X_{80} = H) = \\frac{1}{2}(1 + 0.8^{79}) $$\n",
    "\n",
    "Reusing the expression for $ p(Y_{80} = \\text{Yell})$ given above and the transition probabilities given in the problem description, we get:\n",
    "\n",
    "$$ p(Y_{80} = \\text{Yell}) = 0.1p(X_{80} = H) + 0.2(1 - p(X_{80} = H))$$ \n",
    "\n",
    "$$ p(Y_{80} = \\text{Yell}) = 0.1 (\\frac{1}{2}(1 + 0.8^{79})) + 0.2 (\\frac{1}{2}(1 - 0.8^{79}))$$ \n",
    "\n",
    "$$ p(Y_{80} = \\text{Yell}) = \\frac{1}{20}(3 - 0.8^{79}) $$\n",
    "\n",
    "$$ p(Y_{80} = \\text{Yell}) = 0.14999999889 $$\n",
    "\n",
    "As $t$ goes to infinity, this expression converges to $\\frac{3}{20}$."
   ]
  },
  {
   "cell_type": "markdown",
   "metadata": {},
   "source": [
    "### 5.e $ \\text{argmax}_{x1,\\ldots,x5} \\big[ p(X1 = x1,\\ldots, X5 = x5 | Y1 = Y2 = Y3 = Y4 = Y5 = \\text{frown}) \\big]$\n",
    "\n",
    "TODO"
   ]
  },
  {
   "cell_type": "markdown",
   "metadata": {},
   "source": [
    "## TODO problem 3"
   ]
  },
  {
   "cell_type": "markdown",
   "metadata": {},
   "source": [
    "## TODO problem 4"
   ]
  },
  {
   "cell_type": "markdown",
   "metadata": {},
   "source": [
    "## TODO problem 5\n",
    "Show that there is no directed acyclic graph $G$ such that $I_{d-sep(G)} = I(p)$.\n",
    "\n",
    "Proof:\n",
    "TODO Show conditional dependence between all permutations of the three variables.\n",
    "\n",
    "(hand wave) This implies that G is fully connected. A fully connected graph with three nodes has cycles, so there is no DAG such that $I_{d-sep(G)} = I(p)$.\n",
    "\n",
    "\n",
    "TODO Confusion: If X and Y are not independent, does that imply you can draw an edge between them?\n",
    "TODO I proved each  pair of variables are independent. Does this imply there are no edges betwen all nodes?\n",
    "TODO I don't really know how to compute p(x,y|z)"
   ]
  },
  {
   "cell_type": "markdown",
   "metadata": {},
   "source": [
    "## TODO problem 6"
   ]
  },
  {
   "cell_type": "markdown",
   "metadata": {},
   "source": [
    "## Problem 7\n",
    "### a) Conditional Probability Tables\n",
    "| Forecast    |      |\n",
    "|-------------|------|\n",
    "| WillRain    | 0.30 |\n",
    "| WillNotRain | 0.70 |\n",
    "\n",
    "| Umbrella |          |             |\n",
    "|----------|----------|-------------|\n",
    "| Forecast | WillRain | WillNotRain |\n",
    "| Yes      | 0.75     | 0.05        |\n",
    "| No       | 0.25     | 0.95        |\n",
    "\n",
    "| Rain     |          |             |\n",
    "|----------|----------|-------------|\n",
    "| Forecast | WillRain | WillNotRain |\n",
    "| Yes      | 0.85     | 0.05        |\n",
    "| No       | 0.15     | 0.95        |\n",
    "\n",
    "| Drenched |      |     |     |     |\n",
    "|----------|------|-----|-----|-----|\n",
    "| Umbrella | Yes  | Yes | No  | No  |\n",
    "| Rain     | Yes  | No  | Yes | No  |\n",
    "| Yes      | 0.05 | 0.0 | 0.8 | 0.0 |\n",
    "| No       | 0.95 | 1.0 | 0.2 | 1.0 |\n",
    "\n",
    "| Cold     |      |     |\n",
    "|----------|------|-----|\n",
    "| Drenched | Yes  | No  |\n",
    "| Yes      | 0.90 | 0.5 |\n",
    "| No       | 0.10 | 0.5 |\n",
    "\n",
    "| Sprinkler |      |\n",
    "|-----------|------|\n",
    "| On        | 0.25 |\n",
    "| Off       | 0.75 |\n",
    "\n",
    "| Wet Grass |     |      |     |      |\n",
    "|-----------|-----|------|-----|------|\n",
    "| Rain      | Yes | Yes  | No  | No   |\n",
    "| Sprinkler | On  | Off  | On  | Off  |\n",
    "| Yes       | 1.0 | 0.95 | 1.0 | 0.01 |\n",
    "| No        | 0.0 | 0.05 | 0.0 | 0.99 |"
   ]
  },
  {
   "cell_type": "markdown",
   "metadata": {},
   "source": [
    "### b) Perturb Forecast, observe effects\n",
    "#### Before perturbation\n",
    "Forecast CPD:\n",
    "\n",
    "| Forecast    |      |\n",
    "|-------------|------|\n",
    "| WillRain    | 0.30 |\n",
    "| WillNotRain | 0.70 |\n",
    "\n",
    "Marginal probability for Cold:\n",
    "\n",
    "| Cold     |      |\n",
    "|----------|------|\n",
    "| Yes      | 0.5349 |\n",
    "| No       | 0.4651 |\n",
    "\n",
    "#### After perturbation:\n",
    "\n",
    "| Forecast    |      |\n",
    "|-------------|------|\n",
    "| WillRain    | 1.00 |\n",
    "| WillNotRain | 0.00 |\n",
    "\n",
    "Marginal probability for Cold:\n",
    "\n",
    "| Cold     |      |\n",
    "|----------|------|\n",
    "| Yes      | 0.5807 |\n",
    "| No       | 0.4193 |\n",
    "\n",
    "#### Analysis\n",
    "Even though the prior probability for the WillRain forecast went from 30% to 100%, the probability of the Yes value for Cold only increased from 53.49% to 58.07%. Intuitively, this is because the effect of Forecast on Cold is diluted by the all the variables between them. Even if the weatherman forecasts 100% chance of rain, in order for that to result in me being cold, his prediction for rain must be accurate, I probably have to have forgetten my umbrella, and I probably had have gotten drenched. Even then, me being drenched is not a perfect predictor of me being cold. For the probability of Cold to increase significantly, the conditional probability distributions on the variables between it and Forecast must change as well."
   ]
  },
  {
   "cell_type": "markdown",
   "metadata": {},
   "source": [
    "### c) \"Cold = Yes\", noting its effect on \"Rain\"\n",
    "\n",
    "#### Before observing \"Cold = Yes\"\n",
    "\n",
    "| Rain     |          |\n",
    "|----------|----------|\n",
    "| Yes      | 0.29     |\n",
    "| No       | 0.71     |\n",
    "\n",
    "#### After observing \"Cold = Yes\"\n",
    "\n",
    "| Rain     |          |\n",
    "|----------|----------|\n",
    "| Yes      | 0.3363     |\n",
    "| No       | 0.6637     |\n",
    "\n",
    "#### Analysis\n",
    "After observing that \"Cold = Yes\", the marginal probability of it \"Rain = Yes\" increased from 29% to 33.63%. This is because Cold is influenced by Rain, so knowing that it is Cold makes it more likely that Rain was its underlying cause. "
   ]
  },
  {
   "cell_type": "markdown",
   "metadata": {},
   "source": [
    "### d) Effect of WetGrass on Cold\n",
    "#### Before observing WetGrass\n",
    "| Cold     |      |\n",
    "|----------|------|\n",
    "| Yes      | 0.5349 |\n",
    "| No       | 0.4651 |\n",
    "\n",
    "#### After observing \"WetGrass = Yes\"\n",
    "| Cold     |      |\n",
    "|----------|------|\n",
    "| Yes      | 0.5727 |\n",
    "| No       | 0.4273 |\n",
    "\n",
    "#### After observing \"WetGrass = No\"\n",
    "| Cold     |      |\n",
    "|----------|------|\n",
    "| Yes      | 0.5024 |\n",
    "| No       | 0.4976 |\n",
    "\n",
    "#### Analysis\n",
    "\n",
    "When the grass is wet, a likely reason for it was that it rained. Rain increases the likelihood of getting drenched, which increases the likelihood of getting cold. Similarly, if the grass is not wet, that decreases the likelihood that it rained, which decreases the likelihood of getting drenched, which decreases the likelihood of getting cold.\n",
    "To use the terminology from the \"Bayes Ball\" algorithm, since WetGrass is a child of Rain, observing its state allows  the ball to bounce from there to Rain. Since Drenched is a child of Rain, and Cold a child of Drenched, the ball can bounce all the way to Cold."
   ]
  },
  {
   "cell_type": "markdown",
   "metadata": {},
   "source": [
    "### e) Effect of Sprinkler and WetGrass on Cold\n",
    "#### Before observing either\n",
    "| Cold     |      |\n",
    "|----------|------|\n",
    "| Yes      | 0.5349 |\n",
    "| No       | 0.4651 |\n",
    "\n",
    "#### After observing \"Sprinkler = Off\"\n",
    "| Cold     |      |\n",
    "|----------|------|\n",
    "| Yes      | 0.5349 |\n",
    "| No       | 0.4651 |\n",
    "\n",
    "(No change)\n",
    "\n",
    "#### After observing \"Sprinkler = Off\" and \"WetGrass = Yes\"\n",
    "\n",
    "| Cold     |      |\n",
    "|----------|------|\n",
    "| Yes      | 0.6173 |\n",
    "| No       | 0.3827 |\n",
    "\n",
    "#### Analysis\n",
    "Observing the sprinkler's state alone has no effect on the marginal probability of it being cold. This is because Cold and Rain are both parents of WetGrass. The Bayes Ball algorithm states that information from one parent cannot flow through its child to another parent unless the child has also been observed. That is why, when WetGrass was set to \"Yes\", the likelihood of Cold increased. Now that we know the sprinkler was off, and that the grass is dry, it makes it all but certain that it rained, which increases the liklihood of being cold."
   ]
  },
  {
   "cell_type": "markdown",
   "metadata": {},
   "source": [
    "### f) Effect of a perfect forecast\n",
    "#### Marginal Probability of Cold with imperfect forecast\n",
    "| Rain     |          |             |\n",
    "|----------|----------|-------------|\n",
    "| Forecast | WillRain | WillNotRain |\n",
    "| Yes      | 0.85     | 0.05        |\n",
    "| No       | 0.15     | 0.95        |\n",
    "\n",
    "| Cold     |      |\n",
    "|----------|------|\n",
    "| Yes      | 0.5349 |\n",
    "| No       | 0.4651 |\n",
    "\n",
    "#### After perfect forecast\n",
    "\n",
    "| Cold     |      |\n",
    "|----------|------|\n",
    "| Yes      | 0.506 |\n",
    "| No       | 0.494 |\n",
    "\n",
    "#### Analysis\n",
    "If the forecast is perfectly predictive of rain, and I always bring my umbrella when it rains, then the liklihood of being cold decreases to 50.6% from 53.49%. This is because, in this situation, I always have my umbrella when it rains, making it less likely that I will get drenched, and thus less likely making it less likely that I get cold from being drenched. To test this, we can observe \"Rain = Yes\", and see that the marginal likelihood for Umbrella increases to 100%."
   ]
  },
  {
   "cell_type": "code",
   "execution_count": null,
   "metadata": {
    "collapsed": true
   },
   "outputs": [],
   "source": []
  }
 ],
 "metadata": {
  "kernelspec": {
   "display_name": "Python 2",
   "language": "python",
   "name": "python2"
  },
  "language_info": {
   "codemirror_mode": {
    "name": "ipython",
    "version": 2
   },
   "file_extension": ".py",
   "mimetype": "text/x-python",
   "name": "python",
   "nbconvert_exporter": "python",
   "pygments_lexer": "ipython2",
   "version": "2.7.10"
  }
 },
 "nbformat": 4,
 "nbformat_minor": 0
}
